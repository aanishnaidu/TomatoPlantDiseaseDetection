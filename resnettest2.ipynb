{
 "cells": [
  {
   "cell_type": "code",
   "execution_count": 1,
   "metadata": {},
   "outputs": [],
   "source": [
    "import numpy as np\n",
    "import pickle\n",
    "import cv2\n",
    "import os\n",
    "import keras\n",
    "from os import listdir\n",
    "from sklearn.preprocessing import LabelBinarizer\n",
    "from keras.models import Sequential\n",
    "from keras.layers.normalization import BatchNormalization\n",
    "from keras.layers.convolutional import Conv2D\n",
    "from keras.layers.convolutional import MaxPooling2D\n",
    "from keras.layers.core import Activation, Flatten, Dropout, Dense\n",
    "from keras.preprocessing.image import ImageDataGenerator\n",
    "from keras.optimizers import Adam\n",
    "from keras.preprocessing import image\n",
    "from keras.preprocessing.image import img_to_array\n",
    "from sklearn.preprocessing import MultiLabelBinarizer\n",
    "from sklearn.model_selection import train_test_split\n",
    "import matplotlib.pyplot as plt\n",
    "from keras import backend as K\n",
    "import pickle\n",
    "import joblib\n",
    "from keras.models import model_from_json\n",
    "from keras.layers import Convolution2D\n",
    "from keras.layers import MaxPooling2D\n",
    "from keras.layers import Flatten\n",
    "from keras.layers import Dense\n",
    "from keras.layers import Dropout\n",
    "from keras.layers.normalization import BatchNormalization\n",
    "\n",
    "from keras.applications import ResNet50\n",
    "from keras.optimizers import Adam"
   ]
  },
  {
   "cell_type": "code",
   "execution_count": 2,
   "metadata": {},
   "outputs": [
    {
     "name": "stdout",
     "output_type": "stream",
     "text": [
      "1 Physical GPUs, 1 Logical GPUs\n"
     ]
    }
   ],
   "source": [
    "import tensorflow as tf\n",
    "gpus = tf.config.experimental.list_physical_devices('GPU')\n",
    "if gpus:\n",
    "    try:\n",
    "        for gpu in gpus:\n",
    "            tf.config.experimental.set_memory_growth(gpu, True)\n",
    "        logical_gpus = tf.config.experimental.list_logical_devices('GPU')\n",
    "        print(len(gpus), \"Physical GPUs,\", len(logical_gpus), \"Logical GPUs\")\n",
    "    except RuntimeError as e:\n",
    "        print(e)\n",
    "os.environ['TF_FORCE_GPU_ALLOW_GROWTH'] = \"true\"\n"
   ]
  },
  {
   "cell_type": "code",
   "execution_count": 3,
   "metadata": {},
   "outputs": [],
   "source": [
    "ph1=r\"C:\\Users\\aanis\\Desktop\\plantvillage1\\aa\\segmented\\tomato\"###TOMATO SEGMENTED \n",
    "li=0\n",
    "x=[]\n",
    "y=[]\n",
    "for i in os.listdir(ph1):\n",
    "    lab=[0,0,0,0,0,0,0,0,0,0]\n",
    "    lab[li]=1\n",
    "    ph2=ph1+f'\\{i}'\n",
    "    #print(ph2)\n",
    "    li+=1\n",
    "    for j in os.listdir(ph2):\n",
    "        #print(j)\n",
    "        ph3=ph2+f'\\{j}'\n",
    "        #print(x,np.array(cv2.imread(ph3)).reshape(256*256*3))\n",
    "        #print(lab)\n",
    "        x.append(np.array(cv2.imread(ph3)))\n",
    "        y.append(lab)\n",
    "        "
   ]
  },
  {
   "cell_type": "code",
   "execution_count": 4,
   "metadata": {},
   "outputs": [
    {
     "name": "stdout",
     "output_type": "stream",
     "text": [
      "(18159, 10)\n"
     ]
    }
   ],
   "source": [
    "print(np.array(y).shape)\n",
    "x_train, x_test, y_train, y_test = train_test_split(np.array(x), np.array(y), test_size=0.2, random_state = 42) \n",
    "del x\n",
    "del y"
   ]
  },
  {
   "cell_type": "code",
   "execution_count": 5,
   "metadata": {},
   "outputs": [],
   "source": [
    "aug = ImageDataGenerator(rotation_range=25, width_shift_range=0.1,height_shift_range=0.1, shear_range=0.2, zoom_range=0.2,horizontal_flip=True, fill_mode=\"nearest\")"
   ]
  },
  {
   "cell_type": "code",
   "execution_count": 6,
   "metadata": {},
   "outputs": [],
   "source": [
    "wpath=r\"C:\\Users\\aanis\\Downloads\\resnet50_weights_tf_dim_ordering_tf_kernels_notop.h5\"\n",
    "\n",
    "resnet = ResNet50(weights=wpath, include_top=False, input_shape=(256, 256, 3))\n"
   ]
  },
  {
   "cell_type": "code",
   "execution_count": 7,
   "metadata": {},
   "outputs": [],
   "source": [
    "for layer in resnet.layers[:-4]:\n",
    "    layer.trainable = False\n",
    "    \n",
    "model = Sequential()\n",
    "model.add(resnet)\n",
    "\n",
    "model.add(Dropout(0.5))\n",
    "  \n",
    "model.add(Flatten())\n",
    "  \n",
    "#model.add(Dense(1024))\n",
    "#model.add(Activation(\"relu\"))\n",
    "#model.add(BatchNormalization())\n",
    "#model.add(Dropout(0.5))\n",
    "#model.add(Dense(10))\n",
    "#model.add(Activation(\"softmax\"))\n",
    "    \n",
    "model.add(Dense(10, activation='softmax'))####38\n",
    "  "
   ]
  },
  {
   "cell_type": "code",
   "execution_count": 8,
   "metadata": {},
   "outputs": [
    {
     "name": "stdout",
     "output_type": "stream",
     "text": [
      "Model: \"sequential\"\n",
      "_________________________________________________________________\n",
      "Layer (type)                 Output Shape              Param #   \n",
      "=================================================================\n",
      "resnet50 (Functional)        (None, 8, 8, 2048)        23587712  \n",
      "_________________________________________________________________\n",
      "dropout (Dropout)            (None, 8, 8, 2048)        0         \n",
      "_________________________________________________________________\n",
      "flatten (Flatten)            (None, 131072)            0         \n",
      "_________________________________________________________________\n",
      "dense (Dense)                (None, 10)                1310730   \n",
      "=================================================================\n",
      "Total params: 24,898,442\n",
      "Trainable params: 2,365,450\n",
      "Non-trainable params: 22,532,992\n",
      "_________________________________________________________________\n"
     ]
    }
   ],
   "source": [
    "model.summary()"
   ]
  },
  {
   "cell_type": "code",
   "execution_count": null,
   "metadata": {
    "scrolled": true
   },
   "outputs": [
    {
     "name": "stdout",
     "output_type": "stream",
     "text": [
      "ok\n",
      "Epoch 1/25\n",
      "453/453 [==============================] - 940s 2s/step - loss: 4.2399 - accuracy: 0.6895 - val_loss: 1.3137 - val_accuracy: 0.8761\n",
      "Epoch 2/25\n",
      "453/453 [==============================] - 927s 2s/step - loss: 1.7251 - accuracy: 0.8537 - val_loss: 2.0811 - val_accuracy: 0.8965\n",
      "Epoch 3/25\n",
      "453/453 [==============================] - 941s 2s/step - loss: 1.7307 - accuracy: 0.8773 - val_loss: 1.6120 - val_accuracy: 0.8976\n",
      "Epoch 4/25\n",
      "453/453 [==============================] - 999s 2s/step - loss: 1.7023 - accuracy: 0.8935 - val_loss: 1.3341 - val_accuracy: 0.9251\n",
      "Epoch 5/25\n",
      "453/453 [==============================] - 925s 2s/step - loss: 1.6969 - accuracy: 0.8988 - val_loss: 1.4054 - val_accuracy: 0.9284\n",
      "Epoch 6/25\n",
      "453/453 [==============================] - 925s 2s/step - loss: 1.4207 - accuracy: 0.9110 - val_loss: 1.0583 - val_accuracy: 0.9430\n",
      "Epoch 7/25\n",
      "453/453 [==============================] - 923s 2s/step - loss: 1.4082 - accuracy: 0.9185 - val_loss: 0.9932 - val_accuracy: 0.9485\n",
      "Epoch 8/25\n",
      "453/453 [==============================] - 917s 2s/step - loss: 1.4171 - accuracy: 0.9267 - val_loss: 1.6847 - val_accuracy: 0.9306\n",
      "Epoch 9/25\n",
      "453/453 [==============================] - 918s 2s/step - loss: 1.2710 - accuracy: 0.9281 - val_loss: 1.9486 - val_accuracy: 0.9196\n",
      "Epoch 10/25\n",
      "453/453 [==============================] - 924s 2s/step - loss: 1.2637 - accuracy: 0.9333 - val_loss: 1.3381 - val_accuracy: 0.9392\n",
      "Epoch 11/25\n",
      "453/453 [==============================] - 944s 2s/step - loss: 1.3907 - accuracy: 0.9337 - val_loss: 1.1338 - val_accuracy: 0.9595\n",
      "Epoch 12/25\n",
      "453/453 [==============================] - 1025s 2s/step - loss: 1.2155 - accuracy: 0.9418 - val_loss: 1.2244 - val_accuracy: 0.9554\n",
      "Epoch 13/25\n",
      "453/453 [==============================] - 4161s 9s/step - loss: 1.4293 - accuracy: 0.9385 - val_loss: 1.2520 - val_accuracy: 0.9554\n",
      "Epoch 14/25\n",
      "453/453 [==============================] - 922s 2s/step - loss: 1.1869 - accuracy: 0.9431 - val_loss: 1.0552 - val_accuracy: 0.9543\n",
      "Epoch 15/25\n",
      "453/453 [==============================] - 934s 2s/step - loss: 1.2133 - accuracy: 0.9456 - val_loss: 0.9446 - val_accuracy: 0.9573\n",
      "Epoch 16/25\n",
      "453/453 [==============================] - 919s 2s/step - loss: 1.2143 - accuracy: 0.9478 - val_loss: 1.1470 - val_accuracy: 0.9546\n",
      "Epoch 17/25\n",
      "453/453 [==============================] - 919s 2s/step - loss: 1.0849 - accuracy: 0.9546 - val_loss: 1.1449 - val_accuracy: 0.9551\n",
      "Epoch 18/25\n",
      "106/453 [======>.......................] - ETA: 10:01 - loss: 1.3275 - accuracy: 0.9419"
     ]
    }
   ],
   "source": [
    "opt=keras.optimizers.Adam(lr=0.001)\n",
    "model.compile(optimizer=opt,loss='categorical_crossentropy',metrics=['accuracy'])\n",
    "\n",
    "BS=32\n",
    "print(\"ok\")\n",
    "train=model.fit(aug.flow(x_train, y_train, batch_size=BS),\n",
    "                epochs=25,\n",
    "                steps_per_epoch=len(x_train) // BS,\n",
    "                validation_data=(x_test, y_test),verbose=1)"
   ]
  },
  {
   "cell_type": "code",
   "execution_count": null,
   "metadata": {},
   "outputs": [],
   "source": [
    "acc = train.history['accuracy']\n",
    "val_acc = train.history['val_accuracy']\n",
    "loss = train.history['loss']\n",
    "val_loss = train.history['val_loss']\n",
    "epochs = range(1, len(acc) + 1)\n",
    "plt.plot(epochs, acc, 'b', label='Training accurarcy')\n",
    "plt.plot(epochs, val_acc, 'r', label='Validation accurarcy')\n",
    "plt.title('Training and Validation accurarcy')\n",
    "plt.legend()\n",
    "\n",
    "plt.figure()\n",
    "plt.plot(epochs, loss, 'b', label='Training loss')\n",
    "plt.plot(epochs, val_loss, 'r', label='Validation loss')\n",
    "plt.title('Training and Validation loss')\n",
    "plt.legend()\n",
    "plt.show()"
   ]
  },
  {
   "cell_type": "code",
   "execution_count": null,
   "metadata": {},
   "outputs": [],
   "source": [
    "model.save(\"resnet_test2\")"
   ]
  },
  {
   "cell_type": "code",
   "execution_count": null,
   "metadata": {},
   "outputs": [],
   "source": []
  }
 ],
 "metadata": {
  "kernelspec": {
   "display_name": "Python 3",
   "language": "python",
   "name": "python3"
  },
  "language_info": {
   "codemirror_mode": {
    "name": "ipython",
    "version": 3
   },
   "file_extension": ".py",
   "mimetype": "text/x-python",
   "name": "python",
   "nbconvert_exporter": "python",
   "pygments_lexer": "ipython3",
   "version": "3.8.3"
  }
 },
 "nbformat": 4,
 "nbformat_minor": 4
}
